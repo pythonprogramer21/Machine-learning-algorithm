{
 "cells": [
  {
   "cell_type": "code",
   "execution_count": 1,
   "id": "48bb8a30",
   "metadata": {},
   "outputs": [],
   "source": [
    "import pandas as pd\n",
    "from sklearn.model_selection import train_test_split"
   ]
  },
  {
   "cell_type": "code",
   "execution_count": 2,
   "id": "a536ce17",
   "metadata": {},
   "outputs": [],
   "source": [
    "a=pd.read_excel('F:\\\\suryakant notes\\\\data cleaning1.xlsx')"
   ]
  },
  {
   "cell_type": "code",
   "execution_count": 3,
   "id": "895c0407",
   "metadata": {},
   "outputs": [],
   "source": [
    "x=a.drop('SalePrice',axis=1)\n",
    "y=a['SalePrice']"
   ]
  },
  {
   "cell_type": "code",
   "execution_count": 4,
   "id": "a094dd51",
   "metadata": {},
   "outputs": [],
   "source": [
    "x_train,x_test,y_train,y_test=train_test_split(x,y,test_size=0.2,random_state=54)"
   ]
  },
  {
   "cell_type": "code",
   "execution_count": 5,
   "id": "90ddb2a3",
   "metadata": {},
   "outputs": [],
   "source": [
    "from sklearn.ensemble import RandomForestClassifier"
   ]
  },
  {
   "cell_type": "code",
   "execution_count": 9,
   "id": "c4495948",
   "metadata": {},
   "outputs": [],
   "source": [
    "a1=RandomForestClassifier( n_estimators=100,criterion='entropy')"
   ]
  },
  {
   "cell_type": "code",
   "execution_count": 10,
   "id": "b8cff06e",
   "metadata": {},
   "outputs": [
    {
     "data": {
      "text/plain": [
       "RandomForestClassifier(criterion='entropy')"
      ]
     },
     "execution_count": 10,
     "metadata": {},
     "output_type": "execute_result"
    }
   ],
   "source": [
    "a1.fit(x_train,y_train)"
   ]
  },
  {
   "cell_type": "code",
   "execution_count": 11,
   "id": "55c48444",
   "metadata": {},
   "outputs": [
    {
     "data": {
      "text/plain": [
       "0.02054794520547945"
      ]
     },
     "execution_count": 11,
     "metadata": {},
     "output_type": "execute_result"
    }
   ],
   "source": [
    "a1.score(x_test,y_test)"
   ]
  },
  {
   "cell_type": "code",
   "execution_count": 12,
   "id": "7bb913da",
   "metadata": {},
   "outputs": [
    {
     "data": {
      "text/plain": [
       "array([168000, 339750, 129000, 142953, 179000,  85000,  88000, 139600,\n",
       "       192000, 144152, 179200, 110000, 139000, 135000, 325300, 158000,\n",
       "       102000, 129000, 290000,  93000, 184000, 179500, 290000, 130500,\n",
       "       290000,  92900, 193000, 290000,  84500, 177500, 155000, 230000,\n",
       "       109008, 132000, 210000, 180000, 133000, 139400, 135000, 135000,\n",
       "       128000, 217000, 152000, 130000, 110000, 110000, 235000, 123600,\n",
       "       144000, 171000, 144000, 148500, 135000, 170000, 175000, 175000,\n",
       "       128500, 140000, 180000, 145000, 241500, 229456, 253293, 140000,\n",
       "       115000, 148000, 248000, 255000, 215000, 208900, 180000, 129000,\n",
       "       256300, 311872,  89500, 138000, 140000, 199900, 243000, 168500,\n",
       "       113000, 159000, 129500, 110000, 115000, 187000, 139000, 144152,\n",
       "       290000, 110000, 204750, 179200, 271000, 143000, 110000, 155000,\n",
       "       184750, 135000, 260000, 228500, 165000, 117000, 180500, 139400,\n",
       "       140000, 177500, 180000, 239000, 142000, 112000, 190000,  87000,\n",
       "       180000, 155000, 133000, 211000, 180000, 181000, 120000, 178000,\n",
       "       145000, 133000, 181000, 125000, 437154, 175500, 129500, 129000,\n",
       "       204750, 130000, 108000, 158000, 324000, 135000, 145000, 163900,\n",
       "       253293, 135000, 136000, 133000, 155000, 395000, 105000, 173000,\n",
       "       270000, 236500, 175000, 197000, 178000, 236000, 110000, 139000,\n",
       "       190000, 155000, 191000, 252000,  84500, 148000, 125000, 135000,\n",
       "       251000, 142000, 239000, 200000,  80000, 235000, 230000, 140000,\n",
       "       118500, 140000,  67000, 110000, 165600, 110000, 157000,  86000,\n",
       "       260000, 125500, 374000, 251000,  55000, 116000, 173000, 176500,\n",
       "       214000, 109500, 173000, 107900, 141000, 110000, 124000, 157000,\n",
       "       214000, 135000, 339750, 148500, 115000, 114504, 172500, 180000,\n",
       "       190000, 207500, 266000, 267000, 193000, 290000, 181000, 127000,\n",
       "       239000, 139000, 163000, 140000, 214000, 150750, 147000, 182900,\n",
       "       155000, 215000, 147000, 172000, 142600, 193879,  60000, 113000,\n",
       "       112000, 117500, 128500, 224000, 290000, 275000, 110000, 135000,\n",
       "        85000, 170000, 271000, 325000, 385000, 204900, 244600, 176000,\n",
       "       168000, 239000, 156000, 163990, 187000,  37900, 145000, 132500,\n",
       "       178000, 135000, 215000, 110000, 110000, 147000, 142953, 135000,\n",
       "       325000, 224900,  60000, 139600, 140000, 157000, 184000, 135000,\n",
       "       133000, 326000, 240000, 290000, 141000, 140000, 140000, 224000,\n",
       "       107900, 136500,  85000, 210000, 315000, 311872, 185000,  91300,\n",
       "       160000, 175000, 147000, 123000, 155000, 187500, 197500, 117000,\n",
       "       165000, 181000, 110000, 161000], dtype=int64)"
      ]
     },
     "execution_count": 12,
     "metadata": {},
     "output_type": "execute_result"
    }
   ],
   "source": [
    "pre=a1.predict(x_test)\n",
    "pre"
   ]
  },
  {
   "cell_type": "code",
   "execution_count": 13,
   "id": "07c6c5a9",
   "metadata": {},
   "outputs": [
    {
     "data": {
      "text/plain": [
       "882     178000\n",
       "1058    335000\n",
       "1081    133000\n",
       "894     118858\n",
       "954     127500\n",
       "         ...  \n",
       "1400    120000\n",
       "858     152000\n",
       "1245    178000\n",
       "1333    125500\n",
       "1414    207000\n",
       "Name: SalePrice, Length: 292, dtype: int64"
      ]
     },
     "execution_count": 13,
     "metadata": {},
     "output_type": "execute_result"
    }
   ],
   "source": [
    "y_test"
   ]
  },
  {
   "cell_type": "code",
   "execution_count": null,
   "id": "9e561390",
   "metadata": {},
   "outputs": [],
   "source": []
  }
 ],
 "metadata": {
  "kernelspec": {
   "display_name": "Python 3 (ipykernel)",
   "language": "python",
   "name": "python3"
  },
  "language_info": {
   "codemirror_mode": {
    "name": "ipython",
    "version": 3
   },
   "file_extension": ".py",
   "mimetype": "text/x-python",
   "name": "python",
   "nbconvert_exporter": "python",
   "pygments_lexer": "ipython3",
   "version": "3.8.6"
  }
 },
 "nbformat": 4,
 "nbformat_minor": 5
}
