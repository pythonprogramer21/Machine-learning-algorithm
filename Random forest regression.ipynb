{
 "cells": [
  {
   "cell_type": "code",
   "execution_count": 1,
   "id": "a05f217c",
   "metadata": {},
   "outputs": [],
   "source": [
    "import pandas as pd\n",
    "from sklearn.model_selection import train_test_split"
   ]
  },
  {
   "cell_type": "code",
   "execution_count": 2,
   "id": "45ec595e",
   "metadata": {},
   "outputs": [
    {
     "data": {
      "text/html": [
       "<div>\n",
       "<style scoped>\n",
       "    .dataframe tbody tr th:only-of-type {\n",
       "        vertical-align: middle;\n",
       "    }\n",
       "\n",
       "    .dataframe tbody tr th {\n",
       "        vertical-align: top;\n",
       "    }\n",
       "\n",
       "    .dataframe thead th {\n",
       "        text-align: right;\n",
       "    }\n",
       "</style>\n",
       "<table border=\"1\" class=\"dataframe\">\n",
       "  <thead>\n",
       "    <tr style=\"text-align: right;\">\n",
       "      <th></th>\n",
       "      <th>Id</th>\n",
       "      <th>MSSubClass</th>\n",
       "      <th>LotFrontage</th>\n",
       "      <th>LotArea</th>\n",
       "      <th>OverallQual</th>\n",
       "      <th>OverallCond</th>\n",
       "      <th>YearBuilt</th>\n",
       "      <th>YearRemodAdd</th>\n",
       "      <th>MasVnrArea</th>\n",
       "      <th>BsmtFinSF1</th>\n",
       "      <th>...</th>\n",
       "      <th>SaleType_ConLI</th>\n",
       "      <th>SaleType_ConLw</th>\n",
       "      <th>SaleType_New</th>\n",
       "      <th>SaleType_Oth</th>\n",
       "      <th>SaleType_WD</th>\n",
       "      <th>SaleCondition_AdjLand</th>\n",
       "      <th>SaleCondition_Alloca</th>\n",
       "      <th>SaleCondition_Family</th>\n",
       "      <th>SaleCondition_Normal</th>\n",
       "      <th>SaleCondition_Partial</th>\n",
       "    </tr>\n",
       "  </thead>\n",
       "  <tbody>\n",
       "    <tr>\n",
       "      <th>0</th>\n",
       "      <td>1</td>\n",
       "      <td>60</td>\n",
       "      <td>65.0</td>\n",
       "      <td>8450</td>\n",
       "      <td>7</td>\n",
       "      <td>5</td>\n",
       "      <td>2003</td>\n",
       "      <td>2003</td>\n",
       "      <td>196.0</td>\n",
       "      <td>706</td>\n",
       "      <td>...</td>\n",
       "      <td>0</td>\n",
       "      <td>0</td>\n",
       "      <td>0</td>\n",
       "      <td>0</td>\n",
       "      <td>1</td>\n",
       "      <td>0</td>\n",
       "      <td>0</td>\n",
       "      <td>0</td>\n",
       "      <td>1</td>\n",
       "      <td>0</td>\n",
       "    </tr>\n",
       "    <tr>\n",
       "      <th>1</th>\n",
       "      <td>2</td>\n",
       "      <td>20</td>\n",
       "      <td>80.0</td>\n",
       "      <td>9600</td>\n",
       "      <td>6</td>\n",
       "      <td>8</td>\n",
       "      <td>1976</td>\n",
       "      <td>1976</td>\n",
       "      <td>0.0</td>\n",
       "      <td>978</td>\n",
       "      <td>...</td>\n",
       "      <td>0</td>\n",
       "      <td>0</td>\n",
       "      <td>0</td>\n",
       "      <td>0</td>\n",
       "      <td>1</td>\n",
       "      <td>0</td>\n",
       "      <td>0</td>\n",
       "      <td>0</td>\n",
       "      <td>1</td>\n",
       "      <td>0</td>\n",
       "    </tr>\n",
       "    <tr>\n",
       "      <th>2</th>\n",
       "      <td>3</td>\n",
       "      <td>60</td>\n",
       "      <td>68.0</td>\n",
       "      <td>11250</td>\n",
       "      <td>7</td>\n",
       "      <td>5</td>\n",
       "      <td>2001</td>\n",
       "      <td>2002</td>\n",
       "      <td>162.0</td>\n",
       "      <td>486</td>\n",
       "      <td>...</td>\n",
       "      <td>0</td>\n",
       "      <td>0</td>\n",
       "      <td>0</td>\n",
       "      <td>0</td>\n",
       "      <td>1</td>\n",
       "      <td>0</td>\n",
       "      <td>0</td>\n",
       "      <td>0</td>\n",
       "      <td>1</td>\n",
       "      <td>0</td>\n",
       "    </tr>\n",
       "    <tr>\n",
       "      <th>3</th>\n",
       "      <td>4</td>\n",
       "      <td>70</td>\n",
       "      <td>60.0</td>\n",
       "      <td>9550</td>\n",
       "      <td>7</td>\n",
       "      <td>5</td>\n",
       "      <td>1915</td>\n",
       "      <td>1970</td>\n",
       "      <td>0.0</td>\n",
       "      <td>216</td>\n",
       "      <td>...</td>\n",
       "      <td>0</td>\n",
       "      <td>0</td>\n",
       "      <td>0</td>\n",
       "      <td>0</td>\n",
       "      <td>1</td>\n",
       "      <td>0</td>\n",
       "      <td>0</td>\n",
       "      <td>0</td>\n",
       "      <td>0</td>\n",
       "      <td>0</td>\n",
       "    </tr>\n",
       "    <tr>\n",
       "      <th>4</th>\n",
       "      <td>5</td>\n",
       "      <td>60</td>\n",
       "      <td>84.0</td>\n",
       "      <td>14260</td>\n",
       "      <td>8</td>\n",
       "      <td>5</td>\n",
       "      <td>2000</td>\n",
       "      <td>2000</td>\n",
       "      <td>350.0</td>\n",
       "      <td>655</td>\n",
       "      <td>...</td>\n",
       "      <td>0</td>\n",
       "      <td>0</td>\n",
       "      <td>0</td>\n",
       "      <td>0</td>\n",
       "      <td>1</td>\n",
       "      <td>0</td>\n",
       "      <td>0</td>\n",
       "      <td>0</td>\n",
       "      <td>1</td>\n",
       "      <td>0</td>\n",
       "    </tr>\n",
       "  </tbody>\n",
       "</table>\n",
       "<p>5 rows × 245 columns</p>\n",
       "</div>"
      ],
      "text/plain": [
       "   Id  MSSubClass  LotFrontage  LotArea  OverallQual  OverallCond  YearBuilt  \\\n",
       "0   1          60         65.0     8450            7            5       2003   \n",
       "1   2          20         80.0     9600            6            8       1976   \n",
       "2   3          60         68.0    11250            7            5       2001   \n",
       "3   4          70         60.0     9550            7            5       1915   \n",
       "4   5          60         84.0    14260            8            5       2000   \n",
       "\n",
       "   YearRemodAdd  MasVnrArea  BsmtFinSF1  ...  SaleType_ConLI  SaleType_ConLw  \\\n",
       "0          2003       196.0         706  ...               0               0   \n",
       "1          1976         0.0         978  ...               0               0   \n",
       "2          2002       162.0         486  ...               0               0   \n",
       "3          1970         0.0         216  ...               0               0   \n",
       "4          2000       350.0         655  ...               0               0   \n",
       "\n",
       "   SaleType_New  SaleType_Oth  SaleType_WD  SaleCondition_AdjLand  \\\n",
       "0             0             0            1                      0   \n",
       "1             0             0            1                      0   \n",
       "2             0             0            1                      0   \n",
       "3             0             0            1                      0   \n",
       "4             0             0            1                      0   \n",
       "\n",
       "   SaleCondition_Alloca  SaleCondition_Family  SaleCondition_Normal  \\\n",
       "0                     0                     0                     1   \n",
       "1                     0                     0                     1   \n",
       "2                     0                     0                     1   \n",
       "3                     0                     0                     0   \n",
       "4                     0                     0                     1   \n",
       "\n",
       "   SaleCondition_Partial  \n",
       "0                      0  \n",
       "1                      0  \n",
       "2                      0  \n",
       "3                      0  \n",
       "4                      0  \n",
       "\n",
       "[5 rows x 245 columns]"
      ]
     },
     "execution_count": 2,
     "metadata": {},
     "output_type": "execute_result"
    }
   ],
   "source": [
    "a=pd.read_excel('F:\\\\suryakant notes\\\\data cleaning1.xlsx')\n",
    "a.head()"
   ]
  },
  {
   "cell_type": "code",
   "execution_count": 3,
   "id": "833c428f",
   "metadata": {},
   "outputs": [],
   "source": [
    "x=a.drop('SalePrice',axis=1)\n",
    "y=a['SalePrice']"
   ]
  },
  {
   "cell_type": "code",
   "execution_count": 4,
   "id": "2caab8ab",
   "metadata": {},
   "outputs": [],
   "source": [
    "x_train,x_test,y_train,y_test=train_test_split(x,y,test_size=0.2,random_state=54)"
   ]
  },
  {
   "cell_type": "code",
   "execution_count": 5,
   "id": "afb39a2a",
   "metadata": {},
   "outputs": [],
   "source": [
    "from sklearn.ensemble import RandomForestRegressor"
   ]
  },
  {
   "cell_type": "code",
   "execution_count": 6,
   "id": "1caa4a33",
   "metadata": {},
   "outputs": [],
   "source": [
    "re=RandomForestRegressor( n_estimators=100,criterion='squared_error')"
   ]
  },
  {
   "cell_type": "code",
   "execution_count": 7,
   "id": "00aadfd6",
   "metadata": {},
   "outputs": [
    {
     "data": {
      "text/plain": [
       "RandomForestRegressor()"
      ]
     },
     "execution_count": 7,
     "metadata": {},
     "output_type": "execute_result"
    }
   ],
   "source": [
    "re.fit(x_train,y_train)"
   ]
  },
  {
   "cell_type": "code",
   "execution_count": 8,
   "id": "19a64aeb",
   "metadata": {},
   "outputs": [
    {
     "data": {
      "text/plain": [
       "0.8106246072465805"
      ]
     },
     "execution_count": 8,
     "metadata": {},
     "output_type": "execute_result"
    }
   ],
   "source": [
    "re.score(x_test,y_test)"
   ]
  },
  {
   "cell_type": "code",
   "execution_count": 12,
   "id": "b65be69a",
   "metadata": {},
   "outputs": [],
   "source": [
    "re1=RandomForestRegressor( n_estimators=50,criterion='squared_error')"
   ]
  },
  {
   "cell_type": "code",
   "execution_count": 13,
   "id": "4c07b197",
   "metadata": {},
   "outputs": [
    {
     "data": {
      "text/plain": [
       "RandomForestRegressor(n_estimators=50)"
      ]
     },
     "execution_count": 13,
     "metadata": {},
     "output_type": "execute_result"
    }
   ],
   "source": [
    "re1.fit(x_train,y_train)"
   ]
  },
  {
   "cell_type": "code",
   "execution_count": 14,
   "id": "88db5346",
   "metadata": {},
   "outputs": [
    {
     "data": {
      "text/plain": [
       "0.817072275484116"
      ]
     },
     "execution_count": 14,
     "metadata": {},
     "output_type": "execute_result"
    }
   ],
   "source": [
    "re1.score(x_test,y_test)"
   ]
  },
  {
   "cell_type": "code",
   "execution_count": 15,
   "id": "7705523d",
   "metadata": {},
   "outputs": [
    {
     "data": {
      "text/plain": [
       "Id                        1415.0\n",
       "MSSubClass                  50.0\n",
       "LotFrontage                 64.0\n",
       "LotArea                  13053.0\n",
       "OverallQual                  6.0\n",
       "                          ...   \n",
       "SaleCondition_AdjLand        0.0\n",
       "SaleCondition_Alloca         0.0\n",
       "SaleCondition_Family         0.0\n",
       "SaleCondition_Normal         1.0\n",
       "SaleCondition_Partial        0.0\n",
       "Name: 1414, Length: 244, dtype: float64"
      ]
     },
     "execution_count": 15,
     "metadata": {},
     "output_type": "execute_result"
    }
   ],
   "source": [
    "x_test.iloc[-1,:]"
   ]
  },
  {
   "cell_type": "code",
   "execution_count": 16,
   "id": "1b88e954",
   "metadata": {},
   "outputs": [
    {
     "name": "stderr",
     "output_type": "stream",
     "text": [
      "c:\\users\\jambhale\\appdata\\local\\programs\\python\\python38\\lib\\site-packages\\sklearn\\base.py:450: UserWarning: X does not have valid feature names, but RandomForestRegressor was fitted with feature names\n",
      "  warnings.warn(\n"
     ]
    },
    {
     "data": {
      "text/plain": [
       "array([176976.])"
      ]
     },
     "execution_count": 16,
     "metadata": {},
     "output_type": "execute_result"
    }
   ],
   "source": [
    "re1.predict([x_test.iloc[-1,:]])"
   ]
  },
  {
   "cell_type": "code",
   "execution_count": 17,
   "id": "ec39016f",
   "metadata": {},
   "outputs": [
    {
     "data": {
      "text/plain": [
       "207000"
      ]
     },
     "execution_count": 17,
     "metadata": {},
     "output_type": "execute_result"
    }
   ],
   "source": [
    "y_test.iloc[-1]"
   ]
  },
  {
   "cell_type": "code",
   "execution_count": 18,
   "id": "a2336a5a",
   "metadata": {},
   "outputs": [
    {
     "data": {
      "text/plain": [
       "array([178740.34, 379845.3 , 130780.66, 134817.24, 122613.  , 131193.76,\n",
       "       107495.32, 148281.7 , 200892.86, 151617.3 , 186747.8 , 123348.  ,\n",
       "       140658.64, 132120.84, 353037.62, 146440.  , 135341.22, 125295.16,\n",
       "       220996.86, 109842.  , 131602.56, 175016.96, 290051.36, 109268.68,\n",
       "       301890.42,  94940.  , 267007.76, 271788.56, 101502.66, 206078.  ,\n",
       "       141723.24, 231686.2 , 114890.64, 145989.5 , 234451.72, 208977.  ,\n",
       "       134051.42, 121110.  , 149679.24, 147954.2 , 165301.14, 248612.5 ,\n",
       "       156381.  ,  93133.86, 116738.  , 120492.66, 216722.88, 162373.42,\n",
       "       140666.  , 238201.58, 135820.86, 150932.08, 146862.74, 171838.  ,\n",
       "       184342.6 , 180508.4 , 135610.  , 146145.  , 178260.8 , 122468.34,\n",
       "       161293.5 , 198389.16, 371234.92, 147092.  , 122413.  , 149716.  ,\n",
       "       230704.5 , 334234.74, 277506.8 , 213449.6 , 188197.5 , 126534.  ,\n",
       "       242607.08, 335722.1 , 102878.  , 132955.  , 138370.  , 199964.8 ,\n",
       "       250677.62, 171361.  , 102360.  , 156489.26, 130274.  , 113564.94,\n",
       "       131392.38, 170559.  , 146838.5 , 149396.8 , 316721.6 , 157691.9 ,\n",
       "       201481.  , 299209.7 , 278834.54, 150053.  , 107989.42, 151734.  ,\n",
       "       448943.72, 119638.68, 263885.02, 265252.  , 164078.  , 107846.  ,\n",
       "       159613.  , 120522.74, 124790.02, 208270.94, 174684.44, 240141.8 ,\n",
       "       195999.  , 119452.52, 204149.88, 113676.84, 183472.26, 155615.  ,\n",
       "       148285.74, 230801.44, 180611.94, 187208.92, 126347.2 , 199476.  ,\n",
       "       139651.26, 130102.66, 176274.64, 121483.18, 372023.38, 167597.8 ,\n",
       "       128946.  , 138541.  , 191427.28, 113426.64, 101391.  , 155536.74,\n",
       "       231381.  , 133487.66, 145225.18, 171273.2 , 317182.04, 128828.42,\n",
       "       132656.  , 155476.64, 154263.8 , 338354.72,  99333.8 , 178382.92,\n",
       "       250422.16, 241206.96, 173151.08, 242605.34, 224759.34, 214671.56,\n",
       "       123053.  , 143460.74, 265000.88, 136548.82, 187765.28, 242154.56,\n",
       "       109136.64, 159071.74, 147689.12, 134882.66, 223719.72, 123223.16,\n",
       "       253317.28, 149372.48, 112506.  , 337946.68, 180184.9 , 136980.84,\n",
       "       122165.24, 171029.  , 100391.  , 141309.12, 189662.  , 105354.54,\n",
       "       152514.  ,  85723.  , 316855.88, 109774.3 , 321282.14, 256720.78,\n",
       "        84644.22, 129224.38, 200619.8 , 229184.74, 219601.  , 133747.2 ,\n",
       "       199763.  , 111815.58, 156052.7 , 110089.  , 139528.5 , 171446.  ,\n",
       "       203713.12, 142218.68, 353190.84, 161236.5 , 113213.32, 135483.74,\n",
       "       163245.54, 239141.5 , 222430.3 , 201099.96, 268772.14, 305865.02,\n",
       "       185351.  , 232704.  , 189283.8 , 139404.2 , 245139.78, 137368.16,\n",
       "       153457.  , 139668.  , 216739.54, 143366.5 , 129727.1 , 221424.4 ,\n",
       "       139875.5 , 213487.24, 131438.  , 211076.  , 144515.24, 195858.42,\n",
       "       101270.6 , 105248.08, 110210.24, 122485.66, 134903.  , 199968.86,\n",
       "       328042.14, 282838.42, 102235.  ,  88009.94, 116275.08, 145628.16,\n",
       "       225822.44, 428622.78, 380966.54, 213401.46, 223372.76, 196663.  ,\n",
       "       186669.48, 348534.26, 147164.  , 174166.7 , 201655.  ,  88128.  ,\n",
       "       142777.04, 135358.  , 256430.94, 110462.  , 181725.28, 118279.04,\n",
       "        99637.94, 137518.  , 134278.54, 158066.  , 314199.34, 215494.64,\n",
       "        89774.4 , 170265.56, 158434.  , 148122.  , 191303.02, 124770.  ,\n",
       "       151311.  , 357773.92, 191245.4 , 338503.84, 141834.5 , 150185.  ,\n",
       "       158653.  , 205848.72, 115390.66, 180624.8 , 133688.64, 230606.6 ,\n",
       "       316489.22, 248451.3 , 194700.92, 101954.  , 156479.98, 156882.  ,\n",
       "       176895.4 , 112878.9 , 148281.66, 176980.22, 159388.64, 117454.5 ,\n",
       "       151461.6 , 183560.32, 123942.44, 176976.  ])"
      ]
     },
     "execution_count": 18,
     "metadata": {},
     "output_type": "execute_result"
    }
   ],
   "source": [
    "pre=re1.predict(x_test)\n",
    "pre"
   ]
  },
  {
   "cell_type": "code",
   "execution_count": 19,
   "id": "9c167b6a",
   "metadata": {},
   "outputs": [
    {
     "data": {
      "text/plain": [
       "882     178000\n",
       "1058    335000\n",
       "1081    133000\n",
       "894     118858\n",
       "954     127500\n",
       "         ...  \n",
       "1400    120000\n",
       "858     152000\n",
       "1245    178000\n",
       "1333    125500\n",
       "1414    207000\n",
       "Name: SalePrice, Length: 292, dtype: int64"
      ]
     },
     "execution_count": 19,
     "metadata": {},
     "output_type": "execute_result"
    }
   ],
   "source": [
    "y_test"
   ]
  },
  {
   "cell_type": "code",
   "execution_count": null,
   "id": "cd2cef6c",
   "metadata": {},
   "outputs": [],
   "source": []
  }
 ],
 "metadata": {
  "kernelspec": {
   "display_name": "Python 3 (ipykernel)",
   "language": "python",
   "name": "python3"
  },
  "language_info": {
   "codemirror_mode": {
    "name": "ipython",
    "version": 3
   },
   "file_extension": ".py",
   "mimetype": "text/x-python",
   "name": "python",
   "nbconvert_exporter": "python",
   "pygments_lexer": "ipython3",
   "version": "3.8.6"
  }
 },
 "nbformat": 4,
 "nbformat_minor": 5
}
