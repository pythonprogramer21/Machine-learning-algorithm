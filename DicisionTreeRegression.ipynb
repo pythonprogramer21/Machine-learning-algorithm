{
 "cells": [
  {
   "cell_type": "code",
   "execution_count": 1,
   "id": "58a30546",
   "metadata": {},
   "outputs": [],
   "source": [
    "import pandas as pd\n",
    "from sklearn.model_selection import train_test_split"
   ]
  },
  {
   "cell_type": "code",
   "execution_count": 4,
   "id": "a8c08977",
   "metadata": {},
   "outputs": [
    {
     "data": {
      "text/html": [
       "<div>\n",
       "<style scoped>\n",
       "    .dataframe tbody tr th:only-of-type {\n",
       "        vertical-align: middle;\n",
       "    }\n",
       "\n",
       "    .dataframe tbody tr th {\n",
       "        vertical-align: top;\n",
       "    }\n",
       "\n",
       "    .dataframe thead th {\n",
       "        text-align: right;\n",
       "    }\n",
       "</style>\n",
       "<table border=\"1\" class=\"dataframe\">\n",
       "  <thead>\n",
       "    <tr style=\"text-align: right;\">\n",
       "      <th></th>\n",
       "      <th>Id</th>\n",
       "      <th>MSSubClass</th>\n",
       "      <th>LotFrontage</th>\n",
       "      <th>LotArea</th>\n",
       "      <th>OverallQual</th>\n",
       "      <th>OverallCond</th>\n",
       "      <th>YearBuilt</th>\n",
       "      <th>YearRemodAdd</th>\n",
       "      <th>MasVnrArea</th>\n",
       "      <th>BsmtFinSF1</th>\n",
       "      <th>...</th>\n",
       "      <th>SaleType_ConLI</th>\n",
       "      <th>SaleType_ConLw</th>\n",
       "      <th>SaleType_New</th>\n",
       "      <th>SaleType_Oth</th>\n",
       "      <th>SaleType_WD</th>\n",
       "      <th>SaleCondition_AdjLand</th>\n",
       "      <th>SaleCondition_Alloca</th>\n",
       "      <th>SaleCondition_Family</th>\n",
       "      <th>SaleCondition_Normal</th>\n",
       "      <th>SaleCondition_Partial</th>\n",
       "    </tr>\n",
       "  </thead>\n",
       "  <tbody>\n",
       "    <tr>\n",
       "      <th>0</th>\n",
       "      <td>1</td>\n",
       "      <td>60</td>\n",
       "      <td>65.0</td>\n",
       "      <td>8450</td>\n",
       "      <td>7</td>\n",
       "      <td>5</td>\n",
       "      <td>2003</td>\n",
       "      <td>2003</td>\n",
       "      <td>196.0</td>\n",
       "      <td>706</td>\n",
       "      <td>...</td>\n",
       "      <td>0</td>\n",
       "      <td>0</td>\n",
       "      <td>0</td>\n",
       "      <td>0</td>\n",
       "      <td>1</td>\n",
       "      <td>0</td>\n",
       "      <td>0</td>\n",
       "      <td>0</td>\n",
       "      <td>1</td>\n",
       "      <td>0</td>\n",
       "    </tr>\n",
       "    <tr>\n",
       "      <th>1</th>\n",
       "      <td>2</td>\n",
       "      <td>20</td>\n",
       "      <td>80.0</td>\n",
       "      <td>9600</td>\n",
       "      <td>6</td>\n",
       "      <td>8</td>\n",
       "      <td>1976</td>\n",
       "      <td>1976</td>\n",
       "      <td>0.0</td>\n",
       "      <td>978</td>\n",
       "      <td>...</td>\n",
       "      <td>0</td>\n",
       "      <td>0</td>\n",
       "      <td>0</td>\n",
       "      <td>0</td>\n",
       "      <td>1</td>\n",
       "      <td>0</td>\n",
       "      <td>0</td>\n",
       "      <td>0</td>\n",
       "      <td>1</td>\n",
       "      <td>0</td>\n",
       "    </tr>\n",
       "    <tr>\n",
       "      <th>2</th>\n",
       "      <td>3</td>\n",
       "      <td>60</td>\n",
       "      <td>68.0</td>\n",
       "      <td>11250</td>\n",
       "      <td>7</td>\n",
       "      <td>5</td>\n",
       "      <td>2001</td>\n",
       "      <td>2002</td>\n",
       "      <td>162.0</td>\n",
       "      <td>486</td>\n",
       "      <td>...</td>\n",
       "      <td>0</td>\n",
       "      <td>0</td>\n",
       "      <td>0</td>\n",
       "      <td>0</td>\n",
       "      <td>1</td>\n",
       "      <td>0</td>\n",
       "      <td>0</td>\n",
       "      <td>0</td>\n",
       "      <td>1</td>\n",
       "      <td>0</td>\n",
       "    </tr>\n",
       "    <tr>\n",
       "      <th>3</th>\n",
       "      <td>4</td>\n",
       "      <td>70</td>\n",
       "      <td>60.0</td>\n",
       "      <td>9550</td>\n",
       "      <td>7</td>\n",
       "      <td>5</td>\n",
       "      <td>1915</td>\n",
       "      <td>1970</td>\n",
       "      <td>0.0</td>\n",
       "      <td>216</td>\n",
       "      <td>...</td>\n",
       "      <td>0</td>\n",
       "      <td>0</td>\n",
       "      <td>0</td>\n",
       "      <td>0</td>\n",
       "      <td>1</td>\n",
       "      <td>0</td>\n",
       "      <td>0</td>\n",
       "      <td>0</td>\n",
       "      <td>0</td>\n",
       "      <td>0</td>\n",
       "    </tr>\n",
       "    <tr>\n",
       "      <th>4</th>\n",
       "      <td>5</td>\n",
       "      <td>60</td>\n",
       "      <td>84.0</td>\n",
       "      <td>14260</td>\n",
       "      <td>8</td>\n",
       "      <td>5</td>\n",
       "      <td>2000</td>\n",
       "      <td>2000</td>\n",
       "      <td>350.0</td>\n",
       "      <td>655</td>\n",
       "      <td>...</td>\n",
       "      <td>0</td>\n",
       "      <td>0</td>\n",
       "      <td>0</td>\n",
       "      <td>0</td>\n",
       "      <td>1</td>\n",
       "      <td>0</td>\n",
       "      <td>0</td>\n",
       "      <td>0</td>\n",
       "      <td>1</td>\n",
       "      <td>0</td>\n",
       "    </tr>\n",
       "  </tbody>\n",
       "</table>\n",
       "<p>5 rows × 245 columns</p>\n",
       "</div>"
      ],
      "text/plain": [
       "   Id  MSSubClass  LotFrontage  LotArea  OverallQual  OverallCond  YearBuilt  \\\n",
       "0   1          60         65.0     8450            7            5       2003   \n",
       "1   2          20         80.0     9600            6            8       1976   \n",
       "2   3          60         68.0    11250            7            5       2001   \n",
       "3   4          70         60.0     9550            7            5       1915   \n",
       "4   5          60         84.0    14260            8            5       2000   \n",
       "\n",
       "   YearRemodAdd  MasVnrArea  BsmtFinSF1  ...  SaleType_ConLI  SaleType_ConLw  \\\n",
       "0          2003       196.0         706  ...               0               0   \n",
       "1          1976         0.0         978  ...               0               0   \n",
       "2          2002       162.0         486  ...               0               0   \n",
       "3          1970         0.0         216  ...               0               0   \n",
       "4          2000       350.0         655  ...               0               0   \n",
       "\n",
       "   SaleType_New  SaleType_Oth  SaleType_WD  SaleCondition_AdjLand  \\\n",
       "0             0             0            1                      0   \n",
       "1             0             0            1                      0   \n",
       "2             0             0            1                      0   \n",
       "3             0             0            1                      0   \n",
       "4             0             0            1                      0   \n",
       "\n",
       "   SaleCondition_Alloca  SaleCondition_Family  SaleCondition_Normal  \\\n",
       "0                     0                     0                     1   \n",
       "1                     0                     0                     1   \n",
       "2                     0                     0                     1   \n",
       "3                     0                     0                     0   \n",
       "4                     0                     0                     1   \n",
       "\n",
       "   SaleCondition_Partial  \n",
       "0                      0  \n",
       "1                      0  \n",
       "2                      0  \n",
       "3                      0  \n",
       "4                      0  \n",
       "\n",
       "[5 rows x 245 columns]"
      ]
     },
     "execution_count": 4,
     "metadata": {},
     "output_type": "execute_result"
    }
   ],
   "source": [
    "a=pd.read_excel('F:\\\\suryakant notes\\\\data cleaning1.xlsx')\n",
    "a.head()"
   ]
  },
  {
   "cell_type": "code",
   "execution_count": 6,
   "id": "63c676d4",
   "metadata": {},
   "outputs": [],
   "source": [
    "x=a.drop('SalePrice',axis=1)\n",
    "y=a['SalePrice']"
   ]
  },
  {
   "cell_type": "code",
   "execution_count": 7,
   "id": "b28e97c5",
   "metadata": {},
   "outputs": [],
   "source": [
    "x_train,x_test,y_train,y_test=train_test_split(x,y,test_size=0.2,random_state=242)"
   ]
  },
  {
   "cell_type": "code",
   "execution_count": 9,
   "id": "14bec096",
   "metadata": {},
   "outputs": [],
   "source": [
    "from sklearn.tree import DecisionTreeRegressor"
   ]
  },
  {
   "cell_type": "code",
   "execution_count": 10,
   "id": "97a5932d",
   "metadata": {},
   "outputs": [],
   "source": [
    "ob=DecisionTreeRegressor()"
   ]
  },
  {
   "cell_type": "code",
   "execution_count": 11,
   "id": "50089d52",
   "metadata": {},
   "outputs": [
    {
     "data": {
      "text/plain": [
       "DecisionTreeRegressor()"
      ]
     },
     "execution_count": 11,
     "metadata": {},
     "output_type": "execute_result"
    }
   ],
   "source": [
    "ob.fit(x_train,y_train)"
   ]
  },
  {
   "cell_type": "code",
   "execution_count": 12,
   "id": "ec340b12",
   "metadata": {},
   "outputs": [
    {
     "data": {
      "text/plain": [
       "0.47379887267081144"
      ]
     },
     "execution_count": 12,
     "metadata": {},
     "output_type": "execute_result"
    }
   ],
   "source": [
    "ob.score(x_test,y_test)"
   ]
  },
  {
   "cell_type": "code",
   "execution_count": 13,
   "id": "9c159765",
   "metadata": {},
   "outputs": [
    {
     "data": {
      "text/plain": [
       "Id                        424.0\n",
       "MSSubClass                 60.0\n",
       "LotFrontage                80.0\n",
       "LotArea                  9200.0\n",
       "OverallQual                 8.0\n",
       "                          ...  \n",
       "SaleCondition_AdjLand       0.0\n",
       "SaleCondition_Alloca        0.0\n",
       "SaleCondition_Family        0.0\n",
       "SaleCondition_Normal        1.0\n",
       "SaleCondition_Partial       0.0\n",
       "Name: 423, Length: 244, dtype: float64"
      ]
     },
     "execution_count": 13,
     "metadata": {},
     "output_type": "execute_result"
    }
   ],
   "source": [
    "x_test.iloc[-1,:]"
   ]
  },
  {
   "cell_type": "code",
   "execution_count": 15,
   "id": "5dd26e9a",
   "metadata": {},
   "outputs": [
    {
     "name": "stderr",
     "output_type": "stream",
     "text": [
      "c:\\users\\jambhale\\appdata\\local\\programs\\python\\python38\\lib\\site-packages\\sklearn\\base.py:450: UserWarning: X does not have valid feature names, but DecisionTreeRegressor was fitted with feature names\n",
      "  warnings.warn(\n"
     ]
    },
    {
     "data": {
      "text/plain": [
       "array([403000.])"
      ]
     },
     "execution_count": 15,
     "metadata": {},
     "output_type": "execute_result"
    }
   ],
   "source": [
    "ob.predict([x_test.iloc[-1,:]])"
   ]
  },
  {
   "cell_type": "code",
   "execution_count": 16,
   "id": "910c8d74",
   "metadata": {},
   "outputs": [
    {
     "data": {
      "text/plain": [
       "315000"
      ]
     },
     "execution_count": 16,
     "metadata": {},
     "output_type": "execute_result"
    }
   ],
   "source": [
    "y_test.iloc[-1]"
   ]
  },
  {
   "cell_type": "code",
   "execution_count": 17,
   "id": "b495864a",
   "metadata": {},
   "outputs": [
    {
     "data": {
      "text/plain": [
       "array([118500., 215000., 100000., 141000., 315500., 140200., 197000.,\n",
       "       192000., 125000., 213500., 167000., 188500.,  89500., 142600.,\n",
       "       192000., 142600., 162900., 120000., 235000., 133700., 144000.,\n",
       "       185000., 261500., 133000., 128000., 125000., 198500., 130000.,\n",
       "       217000., 120000., 286000., 178000., 149000., 284000., 162900.,\n",
       "       127500., 167000., 165600., 167000., 183200., 190000., 131500.,\n",
       "       381000., 131400., 189000., 140000., 167000., 181000., 424870.,\n",
       "       122000., 118858., 175000., 159895., 125500.,  85000., 230000.,\n",
       "       223500.,  72500., 135000., 119500., 155000.,  61000., 284000.,\n",
       "       139000.,  92900., 115000., 128000., 144000.,  89500., 110500.,\n",
       "       159950., 135000., 135000., 157500., 143000., 123000., 156000.,\n",
       "       301500., 171750., 158000., 180000., 192500.,  79900., 192500.,\n",
       "       142000., 116000., 194000., 124900.,  83000., 187500., 190000.,\n",
       "       127000., 162000., 259000., 189000., 274725.,  84900., 176000.,\n",
       "       415298., 155000., 181000., 235000., 135000., 244000., 107000.,\n",
       "       205000., 129500., 177000., 260000., 164000., 136500., 159500.,\n",
       "       130000.,  91500., 131400., 285000., 140000.,  97000., 162900.,\n",
       "       169000., 113000., 113000., 309000., 143000., 167500., 102776.,\n",
       "       124000., 158000., 159000., 135000., 265900., 176000., 165000.,\n",
       "       310000., 274725., 206300., 120000.,  90000., 185000., 189000.,\n",
       "       122000., 134432., 168500., 130000., 204000., 140000., 555000.,\n",
       "       159000., 130000., 290000., 174000., 119000., 155000., 259000.,\n",
       "       176500., 189000., 167500., 181000., 108000., 275000., 189000.,\n",
       "       215000., 134500., 167500., 119500., 242000., 242000.,  90350.,\n",
       "       270000., 259000., 221500., 129500., 136500., 149000., 113000.,\n",
       "       125000., 141000., 185000., 359100., 158000., 163000., 206900.,\n",
       "       140000., 144000., 138000., 134500., 201000., 165000., 230000.,\n",
       "       162900.,  80000., 154900.,  82000., 127000., 170000., 184900.,\n",
       "       159500., 440000., 226700., 234000., 139400., 139950., 119750.,\n",
       "       259000., 219500., 170000.,  79000., 158000., 320000., 125500.,\n",
       "        79900., 167000., 134900., 130000., 220000., 183000., 164700.,\n",
       "       158000., 153500., 125000., 318061., 309000., 325300., 217000.,\n",
       "        82000., 155000., 128000., 128000., 130000., 229456., 625000.,\n",
       "       148000., 157000.,  95000., 169900., 124000.,  93500., 112000.,\n",
       "       140000., 126000.,  91000., 310000., 328000., 172500., 125500.,\n",
       "       118500., 128500., 181000., 134800., 212000., 215000., 189000.,\n",
       "       144000., 122000.,  79000., 194500., 116000., 162900., 136000.,\n",
       "       174000., 320000., 270000., 140000., 279500.,  52500., 180000.,\n",
       "       257500., 153500., 130250., 212000., 152000., 164000., 210000.,\n",
       "       252000., 107000.,  90350., 112000., 137500., 280000., 350000.,\n",
       "       155900., 315000., 156000., 328000., 341000., 246578., 284000.,\n",
       "       182000., 196000., 115000., 625000., 403000.])"
      ]
     },
     "execution_count": 17,
     "metadata": {},
     "output_type": "execute_result"
    }
   ],
   "source": [
    "pre=ob.predict(x_test)\n",
    "pre"
   ]
  },
  {
   "cell_type": "code",
   "execution_count": 18,
   "id": "afdf222f",
   "metadata": {},
   "outputs": [
    {
     "data": {
      "text/plain": [
       "74      107400\n",
       "340     202900\n",
       "778     144000\n",
       "1274    139000\n",
       "409     339750\n",
       "         ...  \n",
       "805     227680\n",
       "1056    185850\n",
       "154     125000\n",
       "523     184750\n",
       "423     315000\n",
       "Name: SalePrice, Length: 292, dtype: int64"
      ]
     },
     "execution_count": 18,
     "metadata": {},
     "output_type": "execute_result"
    }
   ],
   "source": [
    "y_test"
   ]
  },
  {
   "cell_type": "code",
   "execution_count": null,
   "id": "fabb3b29",
   "metadata": {},
   "outputs": [],
   "source": []
  }
 ],
 "metadata": {
  "kernelspec": {
   "display_name": "Python 3 (ipykernel)",
   "language": "python",
   "name": "python3"
  },
  "language_info": {
   "codemirror_mode": {
    "name": "ipython",
    "version": 3
   },
   "file_extension": ".py",
   "mimetype": "text/x-python",
   "name": "python",
   "nbconvert_exporter": "python",
   "pygments_lexer": "ipython3",
   "version": "3.8.6"
  }
 },
 "nbformat": 4,
 "nbformat_minor": 5
}
